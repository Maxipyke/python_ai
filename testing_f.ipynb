{
 "cells": [
  {
   "cell_type": "code",
   "execution_count": 2,
   "id": "e2836d40-15a7-4fab-9a37-bd1b68a13edf",
   "metadata": {},
   "outputs": [],
   "source": [
    "from sklearn.linear_model import LinearRegression as lr"
   ]
  },
  {
   "cell_type": "markdown",
   "id": "abe9f204-0e0b-40e6-bf32-3bb409677aaa",
   "metadata": {},
   "source": [
    "<style>\n",
    "    .blue{\n",
    "        color: ##FF0000;\n",
    "    }\n",
    "</style>\n",
    "\n",
    "<div>\n",
    "<p class=\"blue\">Örneğin yukarıdaki kod bloğu scikit-learn kütüphanesinden linear_model modülünün içindeki LinearRegression fonksiyonunu kullanarak adından da anlayabileceğin üzere otomatik olarak verdiğin veri kümesine göre bir lineer fonksiyon oluşturuyor ve gelecekte vereceğin yeni verileri, oluşturduğu bu lineer fonksiyonda yerine koyarak sana bir çıktı sağlıyor.</p></div>"
   ]
  },
  {
   "cell_type": "code",
   "execution_count": null,
   "id": "e3e05401-14f4-4260-be7a-f3ec2b7e3428",
   "metadata": {},
   "outputs": [],
   "source": []
  }
 ],
 "metadata": {
  "kernelspec": {
   "display_name": "Python 3 (ipykernel)",
   "language": "python",
   "name": "python3"
  },
  "language_info": {
   "codemirror_mode": {
    "name": "ipython",
    "version": 3
   },
   "file_extension": ".py",
   "mimetype": "text/x-python",
   "name": "python",
   "nbconvert_exporter": "python",
   "pygments_lexer": "ipython3",
   "version": "3.12.2"
  }
 },
 "nbformat": 4,
 "nbformat_minor": 5
}
